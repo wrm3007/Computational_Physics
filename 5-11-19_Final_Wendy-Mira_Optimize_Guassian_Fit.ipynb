{
 "cells": [
  {
   "cell_type": "markdown",
   "metadata": {},
   "source": [
    "# <center> Wendy Mira  \n",
    "# <center> Physics 4200\n",
    "# <center> Final Project "
   ]
  },
  {
   "cell_type": "markdown",
   "metadata": {},
   "source": [
    "## Problem\n",
    "An NMR experiment was conducted to gather the knight shift of an organic material, HKUST-TCNQ. A single gaussian fitted curve is used in this example to demonstrate how fitted data is used within material science research. A double gaussian curve fit corresponds to a reference substance and the studied sample -- HKUST-TCNQ in our case -- is expected to be observed. If the organic compound sample is paramagnetic then as the applied temperature is changed a shift in the samples' gaussian maximum amplitude and its corresponding frequency should be observed (see Figure 1). "
   ]
  },
  {
   "cell_type": "markdown",
   "metadata": {},
   "source": [
    "## Introduction\n",
    "\n",
    "   In this project I produce a single Guassian fitted curve for a dataset obtained from a nuclear magnetic resonance (NMR) experiment. The goal of fitting a curve onto NMR data is to produce a plot that compares the frequency shift of a sample that undergoes temperature changes under a magnetic field.  \n",
    "   If a frequency shift is observed between the reference compound and the sample being analysed, then orbital and spin contributions to the magnetic susceptibility cannot be considered separately. For instance, in heavy fermions containing 4f or 5f electrons, the Knight shift is strongly temperature dependent."
   ]
  },
  {
   "attachments": {
    "sample-Knight-shift.jpg": {
     "image/jpeg": "[encoded data removed]"
    }
   },
   "cell_type": "markdown",
   "metadata": {},
   "source": [
    "<center> Figure 1. \n",
    "![sample-Knight-shift.jpg](attachment:sample-Knight-shift.jpg)"
   ]
  },
  {
   "cell_type": "markdown",
   "metadata": {},
   "source": [
    "## Guassian Fit"
   ]
  },
  {
   "cell_type": "markdown",
   "metadata": {},
   "source": [
    "### Modules"
   ]
  },
  {
   "cell_type": "code",
   "execution_count": 225,
   "metadata": {},
   "outputs": [],
   "source": [
    "import matplotlib.pyplot as plt\n",
    "import pylab as plb\n",
    "\n",
    "import scipy\n",
    "from scipy.optimize import curve_fit\n",
    "from scipy import asarray as ar,exp\n",
    "\n",
    "import numpy as np\n",
    "import pandas as pd"
   ]
  },
  {
   "cell_type": "markdown",
   "metadata": {},
   "source": [
    "### Import Data"
   ]
  },
  {
   "cell_type": "code",
   "execution_count": 226,
   "metadata": {},
   "outputs": [],
   "source": [
    "# Control delimiters, rows, column names with read_csv (see later) \n",
    "absorption = pd.read_csv(\"HKUST-1-TCNQ-plus-CuBr-in-epoxy-10192018-1ABSORP.csv\")\n",
    "frequency_o = pd.read_csv(\"HKUST-1-TCNQ-plus-CuBr-in-epoxy-10192018-1FREQS.csv\")\n",
    "dispersion = pd.read_csv(\"HKUST-1-TCNQ-plus-CuBr-in-epoxy-10192018-1DISPERS.csv\")"
   ]
  },
  {
   "cell_type": "markdown",
   "metadata": {},
   "source": [
    "### Variables"
   ]
  },
  {
   "cell_type": "code",
   "execution_count": 227,
   "metadata": {},
   "outputs": [],
   "source": [
    "#Setting variables to datasets\n",
    "A = absorption   # Material absorption from NMR data\n",
    "D = dispersion   # Material dispersion from NMR data\n",
    "\n",
    "x = frequency_o    #Applied frequency from NMR experiment\n",
    "y = magnitude(A,D)\n",
    "\n",
    "X_data = x\n",
    "Y_data = y"
   ]
  },
  {
   "cell_type": "markdown",
   "metadata": {},
   "source": [
    "### Function\n",
    "A function is created below that changes our imported data to be all positive. Secondly the guassian equation is represented as a function below."
   ]
  },
  {
   "cell_type": "code",
   "execution_count": 228,
   "metadata": {},
   "outputs": [],
   "source": [
    "#function finds the magnitude of the absorption and dispersion data to make positive\n",
    "def magnitude(x,y):\n",
    "    mag = np.sqrt(x.values**2 + y.values**2)   #magnitude produces all positive values\n",
    "    return mag"
   ]
  },
  {
   "cell_type": "code",
   "execution_count": 1,
   "metadata": {},
   "outputs": [],
   "source": [
    "#function of Gaussian curve \n",
    "def gaus(x,a,x0,b):   #x - point from guassian fit , a - amplitude, x0 - applied frequency, b - bell curve\n",
    "    return a*exp(-(x-x0)**2/(2*b**2))"
   ]
  },
  {
   "cell_type": "markdown",
   "metadata": {},
   "source": [
    "### Setting parameters for best fit Gaussian curve\n",
    "\n",
    "The scipy package was imported to develope a curve fit. Scipy optimize was used to setup parameters that could provide an improved fitted line. In the fake data, for the guassian curve, 'pcov' and 'popt' were used to compute parameters in the standard deviation errors and to provide optimal values for the parameters to minimize the residuals of the gaussian function and the x and y data arrays."
   ]
  },
  {
   "cell_type": "code",
   "execution_count": 207,
   "metadata": {},
   "outputs": [
    {
     "ename": "ValueError",
     "evalue": "object too deep for desired array",
     "output_type": "error",
     "traceback": [
      "\u001b[0;31m---------------------------------------------------------------------------\u001b[0m",
      "\u001b[0;31mValueError\u001b[0m                                Traceback (most recent call last)",
      "\u001b[0;31mValueError\u001b[0m: object too deep for desired array"
     ]
    },
    {
     "ename": "error",
     "evalue": "Result from function call is not a proper array of floats.",
     "output_type": "error",
     "traceback": [
      "\u001b[0;31m---------------------------------------------------------------------------\u001b[0m",
      "\u001b[0;31merror\u001b[0m                                     Traceback (most recent call last)",
      "\u001b[0;32m<ipython-input-207-dbddb396e83b>\u001b[0m in \u001b[0;36m<module>\u001b[0;34m()\u001b[0m\n\u001b[0;32m----> 1\u001b[0;31m \u001b[0mpopt\u001b[0m\u001b[0;34m,\u001b[0m \u001b[0mpcov\u001b[0m \u001b[0;34m=\u001b[0m \u001b[0mcurve_fit\u001b[0m\u001b[0;34m(\u001b[0m\u001b[0mgaus\u001b[0m\u001b[0;34m,\u001b[0m \u001b[0mX_data\u001b[0m\u001b[0;34m,\u001b[0m \u001b[0mY_data\u001b[0m\u001b[0;34m)\u001b[0m\u001b[0;34m\u001b[0m\u001b[0;34m\u001b[0m\u001b[0m\n\u001b[0m",
      "\u001b[0;32m/anaconda3/lib/python3.6/site-packages/scipy/optimize/minpack.py\u001b[0m in \u001b[0;36mcurve_fit\u001b[0;34m(f, xdata, ydata, p0, sigma, absolute_sigma, check_finite, bounds, method, jac, **kwargs)\u001b[0m\n\u001b[1;32m    749\u001b[0m         \u001b[0;31m# Remove full_output from kwargs, otherwise we're passing it in twice.\u001b[0m\u001b[0;34m\u001b[0m\u001b[0;34m\u001b[0m\u001b[0;34m\u001b[0m\u001b[0m\n\u001b[1;32m    750\u001b[0m         \u001b[0mreturn_full\u001b[0m \u001b[0;34m=\u001b[0m \u001b[0mkwargs\u001b[0m\u001b[0;34m.\u001b[0m\u001b[0mpop\u001b[0m\u001b[0;34m(\u001b[0m\u001b[0;34m'full_output'\u001b[0m\u001b[0;34m,\u001b[0m \u001b[0;32mFalse\u001b[0m\u001b[0;34m)\u001b[0m\u001b[0;34m\u001b[0m\u001b[0;34m\u001b[0m\u001b[0m\n\u001b[0;32m--> 751\u001b[0;31m         \u001b[0mres\u001b[0m \u001b[0;34m=\u001b[0m \u001b[0mleastsq\u001b[0m\u001b[0;34m(\u001b[0m\u001b[0mfunc\u001b[0m\u001b[0;34m,\u001b[0m \u001b[0mp0\u001b[0m\u001b[0;34m,\u001b[0m \u001b[0mDfun\u001b[0m\u001b[0;34m=\u001b[0m\u001b[0mjac\u001b[0m\u001b[0;34m,\u001b[0m \u001b[0mfull_output\u001b[0m\u001b[0;34m=\u001b[0m\u001b[0;36m1\u001b[0m\u001b[0;34m,\u001b[0m \u001b[0;34m**\u001b[0m\u001b[0mkwargs\u001b[0m\u001b[0;34m)\u001b[0m\u001b[0;34m\u001b[0m\u001b[0;34m\u001b[0m\u001b[0m\n\u001b[0m\u001b[1;32m    752\u001b[0m         \u001b[0mpopt\u001b[0m\u001b[0;34m,\u001b[0m \u001b[0mpcov\u001b[0m\u001b[0;34m,\u001b[0m \u001b[0minfodict\u001b[0m\u001b[0;34m,\u001b[0m \u001b[0merrmsg\u001b[0m\u001b[0;34m,\u001b[0m \u001b[0mier\u001b[0m \u001b[0;34m=\u001b[0m \u001b[0mres\u001b[0m\u001b[0;34m\u001b[0m\u001b[0;34m\u001b[0m\u001b[0m\n\u001b[1;32m    753\u001b[0m         \u001b[0mcost\u001b[0m \u001b[0;34m=\u001b[0m \u001b[0mnp\u001b[0m\u001b[0;34m.\u001b[0m\u001b[0msum\u001b[0m\u001b[0;34m(\u001b[0m\u001b[0minfodict\u001b[0m\u001b[0;34m[\u001b[0m\u001b[0;34m'fvec'\u001b[0m\u001b[0;34m]\u001b[0m \u001b[0;34m**\u001b[0m \u001b[0;36m2\u001b[0m\u001b[0;34m)\u001b[0m\u001b[0;34m\u001b[0m\u001b[0;34m\u001b[0m\u001b[0m\n",
      "\u001b[0;32m/anaconda3/lib/python3.6/site-packages/scipy/optimize/minpack.py\u001b[0m in \u001b[0;36mleastsq\u001b[0;34m(func, x0, args, Dfun, full_output, col_deriv, ftol, xtol, gtol, maxfev, epsfcn, factor, diag)\u001b[0m\n\u001b[1;32m    392\u001b[0m         \u001b[0;32mwith\u001b[0m \u001b[0m_MINPACK_LOCK\u001b[0m\u001b[0;34m:\u001b[0m\u001b[0;34m\u001b[0m\u001b[0;34m\u001b[0m\u001b[0m\n\u001b[1;32m    393\u001b[0m             retval = _minpack._lmdif(func, x0, args, full_output, ftol, xtol,\n\u001b[0;32m--> 394\u001b[0;31m                                      gtol, maxfev, epsfcn, factor, diag)\n\u001b[0m\u001b[1;32m    395\u001b[0m     \u001b[0;32melse\u001b[0m\u001b[0;34m:\u001b[0m\u001b[0;34m\u001b[0m\u001b[0;34m\u001b[0m\u001b[0m\n\u001b[1;32m    396\u001b[0m         \u001b[0;32mif\u001b[0m \u001b[0mcol_deriv\u001b[0m\u001b[0;34m:\u001b[0m\u001b[0;34m\u001b[0m\u001b[0;34m\u001b[0m\u001b[0m\n",
      "\u001b[0;31merror\u001b[0m: Result from function call is not a proper array of floats."
     ]
    }
   ],
   "source": [
    "popt, pcov = curve_fit(gaus, X_data, Y_data)"
   ]
  },
  {
   "cell_type": "markdown",
   "metadata": {},
   "source": [
    "### Error\n",
    "The following error could not be resolved:\n",
    "<b>ValueError: object too deep for desired array</b>"
   ]
  },
  {
   "cell_type": "markdown",
   "metadata": {},
   "source": [
    "### Fitting curve to data"
   ]
  },
  {
   "cell_type": "code",
   "execution_count": 224,
   "metadata": {
    "scrolled": false
   },
   "outputs": [
    {
     "data": {
      "image/png": "[encoded data removed]",
      "text/plain": [
       "<Figure size 432x288 with 1 Axes>"
      ]
     },
     "metadata": {},
     "output_type": "display_data"
    }
   ],
   "source": [
    "plt.plot(X_data, gaus(X_data, *popt), 'r-', label='fit')   #best fitted curve\n",
    "plt.plot(X_1,Y_1, 'b.', label='data')                      #imported data\n",
    "plt.legend()\n",
    "plt.title('Magnitude vs Applied Frequency')\n",
    "plt.xlabel('Frequency [Htz]')\n",
    "plt.ylabel('Magnitude')\n",
    "\n",
    "plt.savefig('Magnitude-vs-Applied-Frequency.png')\n"
   ]
  },
  {
   "cell_type": "markdown",
   "metadata": {},
   "source": [
    "## Conclusion\n",
    "\n",
    "A single Gaussian fitted curve was produced for a single NMR data set. The peak of the curve was reduced in from using the Gaussian function. This means that a different equation should be used to analyze this NMR dataset. A Lorenztian or Pseudo-Voignt function could be used instead of a Gaussian fitted curve to reduce the %error bars of the expected Knight shift plot. "
   ]
  },
  {
   "cell_type": "markdown",
   "metadata": {},
   "source": [
    "### References"
   ]
  },
  {
   "cell_type": "markdown",
   "metadata": {},
   "source": [
    "1. https://github.com/Ffisegydd/python-examples/blob/master/examples/scipy/fitting%20a%20gaussian%20with%20scipy%20curve_fit.py\n",
    "2. https://docs.scipy.org/doc/scipy/reference/generated/scipy.optimize.curve_fit.html\n",
    "3. https://www.researchgate.net/publication/302591735_Comparative_NMR_studies_on_Ca3LiRuO6_and_Ca3NaRuO6/citations"
   ]
  },
  {
   "cell_type": "markdown",
   "metadata": {},
   "source": [
    "  "
   ]
  },
  {
   "cell_type": "markdown",
   "metadata": {},
   "source": [
    "  "
   ]
  },
  {
   "cell_type": "markdown",
   "metadata": {},
   "source": [
    "# Problem\n",
    "# Continuation of Midterm\n",
    "\n",
    "In studies by John Ellisa, Natsumi Nagatab and Keith A. Olivec, the theoretical representation for the calculation of spin-independent scattering matrix elements for the scattering of WIMP dark matter particles on nuclear matter. In the midterm project I found data for a dark matter detector, Xenon100. After further research I fould a theoretical equation for the relationship between WIMP mass and the cross-section of nuclear recoil. "
   ]
  },
  {
   "cell_type": "markdown",
   "metadata": {},
   "source": [
    "## Introduction\n",
    "The XENON100 experiment is designed to search for interactions of Weakly Interacting Massive Particles in a liquid Xenon time projection chamber. The Xenon100 detector features a large target mass and an extremely low background interaction for preferred sensitivity. XENON100 is one of the most sensitive dark matter direct detection experiment."
   ]
  },
  {
   "cell_type": "markdown",
   "metadata": {},
   "source": [
    "## Modules"
   ]
  },
  {
   "cell_type": "code",
   "execution_count": 105,
   "metadata": {},
   "outputs": [],
   "source": [
    "import numpy as np\n",
    "import matplotlib.colors\n",
    "import matplotlib.mlab as mlab\n",
    "import matplotlib.pyplot as plt\n",
    "import csv"
   ]
  },
  {
   "cell_type": "markdown",
   "metadata": {},
   "source": [
    "## Access .CSV Data\n",
    "Data is imported from CSV file onto the python notebook. The data is printed in its original format including units."
   ]
  },
  {
   "cell_type": "code",
   "execution_count": 106,
   "metadata": {},
   "outputs": [
    {
     "name": "stdout",
     "output_type": "stream",
     "text": [
      "WIMP mass [GeV/$c^2$] WIMP-nucleon cross section [cm$^2$]\n",
      "3 6.53E-39\n",
      "3.404462103 7.25E-40\n",
      "3.863454069 1.76E-40\n",
      "4.384327655 6.35E-41\n",
      "4.975425782 2.96E-41\n",
      "5.646216173 1.65E-41\n",
      "6.407442995 1.04E-41\n",
      "7.271298951 7.23E-42\n",
      "8.251620571 5.51E-42\n",
      "9.36410984 4.52E-42\n",
      "10.62658569 3.88E-42\n",
      "12.05926942 3.39E-42\n",
      "13.68510858 2.96E-42\n",
      "15.53014451 2.62E-42\n",
      "17.62392948 2.40E-42\n",
      "20 2.24E-42\n"
     ]
    }
   ],
   "source": [
    "with open('WIMP-DATA.csv') as csvfile:\n",
    "    readCSV = csv.reader(csvfile, delimiter=',')\n",
    "    for row in readCSV:\n",
    "        print(row[0], row[1])"
   ]
  },
  {
   "cell_type": "code",
   "execution_count": 107,
   "metadata": {},
   "outputs": [
    {
     "name": "stdout",
     "output_type": "stream",
     "text": [
      "WIMP mass [GeV/$c^2$]WIMP-nucleon cross section [cm$^2$]\n",
      "3              6.53E-39            \n",
      "3.404462103    7.25E-40            \n",
      "3.863454069    1.76E-40            \n",
      "4.384327655    6.35E-41            \n",
      "4.975425782    2.96E-41            \n",
      "5.646216173    1.65E-41            \n",
      "6.407442995    1.04E-41            \n",
      "7.271298951    7.23E-42            \n",
      "8.251620571    5.51E-42            \n",
      "9.36410984     4.52E-42            \n",
      "10.62658569    3.88E-42            \n",
      "12.05926942    3.39E-42            \n",
      "13.68510858    2.96E-42            \n",
      "15.53014451    2.62E-42            \n",
      "17.62392948    2.40E-42            \n",
      "20             2.24E-42            \n"
     ]
    }
   ],
   "source": [
    "f = open(\"WIMP-DATA.csv\")\n",
    "csv_f = csv.reader(f)\n",
    "for row in csv_f:\n",
    "    print('{:<15}''{:<20}'.format(*row, row[1]))"
   ]
  },
  {
   "cell_type": "code",
   "execution_count": 108,
   "metadata": {
    "scrolled": true
   },
   "outputs": [
    {
     "name": "stdout",
     "output_type": "stream",
     "text": [
      "x values: [  3.           3.4044621    3.86345407   4.38432765   4.97542578\n",
      "   5.64621617   6.407443     7.27129895   8.25162057   9.36410984\n",
      "  10.62658569  12.05926942  13.68510858  15.53014451  17.62392948  20.        ] \n",
      " \n",
      " y-values: [  6.53000000e-39   7.25000000e-40   1.76000000e-40   6.35000000e-41\n",
      "   2.96000000e-41   1.65000000e-41   1.04000000e-41   7.23000000e-42\n",
      "   5.51000000e-42   4.52000000e-42   3.88000000e-42   3.39000000e-42\n",
      "   2.96000000e-42   2.62000000e-42   2.40000000e-42   2.24000000e-42]\n"
     ]
    }
   ],
   "source": [
    "#separate data into unique variables\n",
    "mass_x, cross_section_y = np.loadtxt('WIMP-DATA.csv', delimiter=',',usecols=[0,1],skiprows=1, unpack='true')\n",
    "print('x values:', mass_x, '\\n','\\n', 'y-values:', cross_section_y)"
   ]
  },
  {
   "cell_type": "markdown",
   "metadata": {},
   "source": [
    "    The data directily above was printed without the first row which describes what each column in the original data represents. The data above is a reproduction of a \"A Profile Likelihood analysis\" gathered by the nucleon recoil detector XENON100. The detector is to observed the WIMP exclusion spin-scattering limit. [1]"
   ]
  },
  {
   "cell_type": "code",
   "execution_count": null,
   "metadata": {},
   "outputs": [],
   "source": [
    "f = open(\"WIMP-DATA.csv\")\n",
    "csv_f = csv.reader(f)\n",
    "for row in csv_f:\n",
    "    print('{:<15}''{:<20}'.format(*row, row[1]))\n",
    "\n",
    "#separate data into unique variables\n",
    "mass_x, cross_section_y = np.loadtxt('WIMP-DATA.csv', delimiter=',',usecols=[0,1],skiprows=1, unpack='true')\n",
    "print('x values:', mass_x, '\\n','\\n', 'y-values:', cross_section_y)"
   ]
  },
  {
   "cell_type": "markdown",
   "metadata": {},
   "source": [
    "The data directily above was printed without the first row which describes what each column in the original data represents. The data above is a reproduction of a \"A Profile Likelihood analysis\" gathered by the nucleon recoil detector XENON100. The detector is to observed the WIMP exclusion spin-scattering limit. [1]"
   ]
  },
  {
   "attachments": {},
   "cell_type": "markdown",
   "metadata": {},
   "source": [
    "## Equation\n",
    "At zero momentum transfer, and neglecting nuclear structure effects, the spin-independent cross-section for the elastic scattering of a generic WIMP on a nucleus with charge Z and atomic number A, mass $m_r$ , and isospin transformation $f_n$.\n",
    "\n",
    "$\\sigma_S^Z = $($4m_r^2$)/$\\pi$ $[Z$ $f_p$ + (A-Z)$f_n$]^2"
   ]
  },
  {
   "cell_type": "markdown",
   "metadata": {},
   "source": [
    "## Plot\n",
    "Particles that make up Dark Matter are assumed to have mass in the GeV–TeV range and interaction with ordinary matter through weak forces. A nuclear recoil with energy in the KeV range is the only signature of the interaction of WIMPs and neutrinos scattering elastically off atomic nuclei. Although the WIMP mass and atomic number are unknown, most recoils have energies below ~100 KeV."
   ]
  },
  {
   "cell_type": "code",
   "execution_count": 109,
   "metadata": {},
   "outputs": [
    {
     "data": {
      "image/png": "[encoded data removed]",
      "text/plain": [
       "<Figure size 432x288 with 1 Axes>"
      ]
     },
     "metadata": {},
     "output_type": "display_data"
    }
   ],
   "source": [
    "#plot\n",
    "\n",
    "#format axis to proper scale\n",
    "plt.loglog(mass_x, cross_section_y, '*', color='#008B8B', linewidth=3.0)\n",
    "\n",
    "#appropriate labels and units\n",
    "plt.title('XENON100 Detection WIMP Nucleon')\n",
    "plt.xlabel('WIMP Mass GeV/c\\u00b2')\n",
    "plt.ylabel('WIMP Nucleon Cross-Section [cm\\u00b2]')\n",
    "\n",
    "#download plot as figure\n",
    "plt.savefig('Xenon100_Detection_WIMP_NUCLEON.png', dpi = 300)\n",
    "#dpi = 100"
   ]
  },
  {
   "cell_type": "markdown",
   "metadata": {},
   "source": [
    "The plot above comes from data collected by the XENON 100 detector and observes the WIMP exclusion limit on the spin-independent WIMP-nucleon scattering cross section at 90% confidence level. \n",
    "\n",
    "The x-axis shows the mass of a scattered recoil nucleon. The y-axis shows the cross sectional size of the nucleon. Notice that as the mass of a nucleon increases the less sensitive the detector becomes, hence the smaller the cross section of detection. "
   ]
  },
  {
   "cell_type": "markdown",
   "metadata": {},
   "source": [
    "## Conclusion\n",
    "Xenon100 analyses show that the recoil energy is determined using the size of the S1 signal and the relative scintillation efficiency for the nuclear recoils compared with a 122keV calibration gamma line of 57Co. In previous XENON100 analyses WIMPs masses below 10GeV/$c^2$ create nuclear recoils up to a few keV. Nuclear recoils of this magnitude produce results in a lower S2 signal resulting in an S2 signal and an S1 signal that becomes undetectable. This puts huge importance in the sensitivity of WIMP detection.  Although, without a comparable successful Dark Matter detection experiment, every event is analyzed as a probable Dark Matter interaction. Unlike the Xenon10, the Xenon100 has a minimum of 1000 events that undergo analysis."
   ]
  },
  {
   "cell_type": "markdown",
   "metadata": {},
   "source": [
    "### References"
   ]
  },
  {
   "cell_type": "markdown",
   "metadata": {},
   "source": [
    "1. https://arxiv.org/abs/1605.06262\n",
    "2. https://arxiv.org/pdf/1311.1088.pdf\n",
    "3. https://www.sciencedirect.com/science/article/pii/S0370269318304635\n",
    "4. https://journals.aps.org/prd/abstract/10.1103/PhysRevD.31.3059\n",
    "5. http://xenon.astro.columbia.edu/XENON100_Experiment/\n",
    "6.  https://arxiv.org/pdf/1805.09795.pdf"
   ]
  }
 ],
 "metadata": {
  "kernelspec": {
   "display_name": "Python 3",
   "language": "python",
   "name": "python3"
  },
  "language_info": {
   "codemirror_mode": {
    "name": "ipython",
    "version": 3
   },
   "file_extension": ".py",
   "mimetype": "text/x-python",
   "name": "python",
   "nbconvert_exporter": "python",
   "pygments_lexer": "ipython3",
   "version": "3.6.8"
  }
 },
 "nbformat": 4,
 "nbformat_minor": 2
}
